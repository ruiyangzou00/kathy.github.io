{
 "cells": [
  {
   "cell_type": "code",
   "execution_count": 1,
   "metadata": {},
   "outputs": [],
   "source": [
    "import pymysql\n",
    "pymysql.install_as_MySQLdb()\n",
    "import pyodbc\n",
    "import sqlalchemy\n",
    "import MySQLdb\n",
    "from sqlalchemy import create_engine\n",
    "import mysql.connector\n",
    "import pandas as pd\n",
    "import math\n",
    "from scipy.stats import norm\n",
    "import scipy\n",
    "from matplotlib import pyplot as plt\n",
    "import numpy as np\n",
    "import seaborn as sns"
   ]
  },
  {
   "cell_type": "markdown",
   "metadata": {},
   "source": [
    "# 1. Data Cleaning and Quality Assurance\n",
    "Please kindly see the SQL file"
   ]
  },
  {
   "cell_type": "markdown",
   "metadata": {},
   "source": [
    "# 2. Referral program AB Testing\n",
    "This is about an AB Testing of which the goal is to increase referrals by sending the $50 cash reward to users and receivers if senders refer other friends within 30-day window and finnaly the receiver gets a quote.\n",
    "\n",
    "There are two variations we want to test. The first is Rewards amount (ctrl=25, test=50). Another is the Promotion starting time (0/2/7 Days after buying our policy)\n",
    "\n",
    "Notes:\n",
    "* A referral is defined by the receiver creating an account\n",
    "* \\\\$25 cash reward: never received Promo email & referral created an account and got a quote at any time.\n",
    "* \\\\$50 cash reward: received Promo email & referral created an account within 30-day window and finally get a quote at any time"
   ]
  },
  {
   "cell_type": "code",
   "execution_count": 2,
   "metadata": {},
   "outputs": [],
   "source": [
    "# Define metrics\n",
    "# Primary metrics: account/sender (Refer%)\n",
    "# Second metrics: quote/account (Quote%_relative), policy/quote (Policy%_relative), \n",
    "#                 quote/sender (Quote%), policy/sender (Policy%)\n",
    "KPIs=[\n",
    "    ('sender', 'account'),\n",
    "    ('account', 'quote'),\n",
    "    ('quote', 'policy'),\n",
    "    ('sender', 'quote'),\n",
    "    ('sender', 'policy')\n",
    "]"
   ]
  },
  {
   "cell_type": "code",
   "execution_count": 3,
   "metadata": {},
   "outputs": [],
   "source": [
    "# Connect with MySQL\n",
    "username = 'xxx'\n",
    "password = 'xxx'\n",
    "engine = create_engine('mysql://'+username+':'+password + '@localhost:3306')\n",
    "\n",
    "mydb = mysql.connector.connect(\n",
    "  host=\"localhost\",\n",
    "  user=username,\n",
    "  passwd=password,\n",
    "  database=\"root\"\n",
    ")\n",
    "\n",
    "mycursor = mydb.cursor()"
   ]
  },
  {
   "cell_type": "markdown",
   "metadata": {},
   "source": [
    "### a. Rewards Amount Test\n",
    "\n",
    "* 0hr: (\\\\$25 vs. \\\\$50)"
   ]
  },
  {
   "cell_type": "code",
   "execution_count": 4,
   "metadata": {},
   "outputs": [],
   "source": [
    "# control group: users who are in the 'off' bucket and any referrals created within 30 days\n",
    "# variation group: users who are in the '0hr' bucket and any referrals created within 30 days\n",
    "\n",
    "sql = \"\"\"\n",
    "WITH cte AS (\n",
    "    SELECT * FROM root.joined_promo_test_transformed\n",
    "    WHERE bucket IN ('off', '0hr') AND (receiver_account IS NULL OR (\n",
    "    receiver_account_timestamp BETWEEN bucket_timestamp AND DATE_ADD(bucket_timestamp, INTERVAL 30 DAY))\n",
    "    )\n",
    "    )\n",
    "SELECT bucket, \n",
    "    COUNT(DISTINCT user_id) AS sender,\n",
    "    SUM(CASE WHEN receiver_account = 1 THEN 1 ELSE 0 END) AS account, \n",
    "    SUM(CASE WHEN receiver_quote = 1 THEN 1 ELSE 0 END) AS quote,\n",
    "    SUM(CASE WHEN receiver_policy = 1 THEN 1 ELSE 0 END) AS policy\n",
    "FROM cte\n",
    "GROUP BY bucket;\n",
    "\"\"\"\n",
    "df_Result = pd.read_sql(sql, engine)"
   ]
  },
  {
   "cell_type": "code",
   "execution_count": 5,
   "metadata": {},
   "outputs": [
    {
     "data": {
      "text/html": [
       "<div>\n",
       "<style scoped>\n",
       "    .dataframe tbody tr th:only-of-type {\n",
       "        vertical-align: middle;\n",
       "    }\n",
       "\n",
       "    .dataframe tbody tr th {\n",
       "        vertical-align: top;\n",
       "    }\n",
       "\n",
       "    .dataframe thead th {\n",
       "        text-align: right;\n",
       "    }\n",
       "</style>\n",
       "<table border=\"1\" class=\"dataframe\">\n",
       "  <thead>\n",
       "    <tr style=\"text-align: right;\">\n",
       "      <th></th>\n",
       "      <th>bucket</th>\n",
       "      <th>sender</th>\n",
       "      <th>account</th>\n",
       "      <th>quote</th>\n",
       "      <th>policy</th>\n",
       "    </tr>\n",
       "  </thead>\n",
       "  <tbody>\n",
       "    <tr>\n",
       "      <th>0</th>\n",
       "      <td>0hr</td>\n",
       "      <td>851</td>\n",
       "      <td>263.0</td>\n",
       "      <td>99.0</td>\n",
       "      <td>31.0</td>\n",
       "    </tr>\n",
       "    <tr>\n",
       "      <th>1</th>\n",
       "      <td>off</td>\n",
       "      <td>909</td>\n",
       "      <td>167.0</td>\n",
       "      <td>58.0</td>\n",
       "      <td>15.0</td>\n",
       "    </tr>\n",
       "  </tbody>\n",
       "</table>\n",
       "</div>"
      ],
      "text/plain": [
       "  bucket  sender  account  quote  policy\n",
       "0    0hr     851    263.0   99.0    31.0\n",
       "1    off     909    167.0   58.0    15.0"
      ]
     },
     "execution_count": 5,
     "metadata": {},
     "output_type": "execute_result"
    }
   ],
   "source": [
    "df_Result"
   ]
  },
  {
   "cell_type": "code",
   "execution_count": 6,
   "metadata": {},
   "outputs": [],
   "source": [
    "# Adjust the order of control and variation group\n",
    "df_Result.index = [1,0]\n",
    "df_Result = df_Result.sort_index()"
   ]
  },
  {
   "cell_type": "code",
   "execution_count": 7,
   "metadata": {},
   "outputs": [
    {
     "data": {
      "text/html": [
       "<div>\n",
       "<style scoped>\n",
       "    .dataframe tbody tr th:only-of-type {\n",
       "        vertical-align: middle;\n",
       "    }\n",
       "\n",
       "    .dataframe tbody tr th {\n",
       "        vertical-align: top;\n",
       "    }\n",
       "\n",
       "    .dataframe thead th {\n",
       "        text-align: right;\n",
       "    }\n",
       "</style>\n",
       "<table border=\"1\" class=\"dataframe\">\n",
       "  <thead>\n",
       "    <tr style=\"text-align: right;\">\n",
       "      <th></th>\n",
       "      <th>bucket</th>\n",
       "      <th>sender</th>\n",
       "      <th>account</th>\n",
       "      <th>quote</th>\n",
       "      <th>policy</th>\n",
       "    </tr>\n",
       "  </thead>\n",
       "  <tbody>\n",
       "    <tr>\n",
       "      <th>0</th>\n",
       "      <td>off</td>\n",
       "      <td>909</td>\n",
       "      <td>167.0</td>\n",
       "      <td>58.0</td>\n",
       "      <td>15.0</td>\n",
       "    </tr>\n",
       "    <tr>\n",
       "      <th>1</th>\n",
       "      <td>0hr</td>\n",
       "      <td>851</td>\n",
       "      <td>263.0</td>\n",
       "      <td>99.0</td>\n",
       "      <td>31.0</td>\n",
       "    </tr>\n",
       "  </tbody>\n",
       "</table>\n",
       "</div>"
      ],
      "text/plain": [
       "  bucket  sender  account  quote  policy\n",
       "0    off     909    167.0   58.0    15.0\n",
       "1    0hr     851    263.0   99.0    31.0"
      ]
     },
     "execution_count": 7,
     "metadata": {},
     "output_type": "execute_result"
    }
   ],
   "source": [
    "df_Result"
   ]
  },
  {
   "cell_type": "code",
   "execution_count": 8,
   "metadata": {},
   "outputs": [],
   "source": [
    "def z_test_calculator(df,denominator,numerator):\n",
    "    \n",
    "#   INPUT:\n",
    "#        df: dataframe with aggregated data\n",
    "#        denominator: str\n",
    "#        numerator: str\n",
    "\n",
    "#   OUTPUT: \n",
    "#        (denominator, numerator, p_value, pct_lift, abs_lift)\n",
    "\n",
    "    # get data\n",
    "    nume_ctrl = df.loc[0, numerator]\n",
    "    deno_ctrl = df.loc[0, denominator]\n",
    "    nume_var = df.loc[1, numerator]\n",
    "    deno_var = df.loc[1, denominator]\n",
    "\n",
    "\n",
    "    # ratio\n",
    "    p_ctrl = nume_ctrl / deno_ctrl\n",
    "    p_var  = nume_var / deno_var\n",
    "\n",
    "    # STD\n",
    "    std_ctrl = math.sqrt(p_ctrl * (1 - p_ctrl) / deno_ctrl)\n",
    "    std_var = math.sqrt(p_var * (1 - p_var) / deno_var)\n",
    "\n",
    "    # Z-Score\n",
    "    z = (p_ctrl - p_var) / math.sqrt(std_ctrl**2 + std_var**2)\n",
    "\n",
    "    # Confident Level (1-P Value)\n",
    "    cl = 1-norm.sf(abs(z))\n",
    "\n",
    "    # Lift\n",
    "    ctrl_ratio = p_ctrl\n",
    "    var_ratio = p_var\n",
    "    abs_lift = p_var - p_ctrl\n",
    "    pct_lift = abs_lift / p_ctrl\n",
    "    \n",
    "    return denominator, numerator, cl, ctrl_ratio, var_ratio, pct_lift, abs_lift"
   ]
  },
  {
   "cell_type": "code",
   "execution_count": 9,
   "metadata": {},
   "outputs": [
    {
     "name": "stdout",
     "output_type": "stream",
     "text": [
      "{'Amount Test 0hr 2550':   denominator numerator  confident_level  ctrl_ratio  var_ratio  perc_lift  \\\n",
      "0      sender   account         1.000000    0.183718   0.309048   0.682184   \n",
      "1     account     quote         0.730368    0.347305   0.376426   0.083847   \n",
      "2       quote    policy         0.769279    0.258621   0.313131   0.210774   \n",
      "3      sender     quote         0.999940    0.063806   0.116334   0.823230   \n",
      "4      sender    policy         0.995228    0.016502   0.036428   1.207521   \n",
      "\n",
      "   abs_lift  \n",
      "0  0.125330  \n",
      "1  0.029120  \n",
      "2  0.054511  \n",
      "3  0.052527  \n",
      "4  0.019926  }\n"
     ]
    }
   ],
   "source": [
    "# calculate statistical measures\n",
    "dic_final = {}\n",
    "for i in df_Result.index:\n",
    "    if i != 0:\n",
    "        test_group_n = df_Result.loc[[0, i],]\n",
    "        test_group_n.index = [0,1]\n",
    "\n",
    "        groupN_statistics = []\n",
    "        for deno, nume in KPIs:\n",
    "            groupN_statistics.append(z_test_calculator(test_group_n, deno, nume))\n",
    "        key = 'Amount Test 0hr 2550'\n",
    "        dic_final[key] = pd.DataFrame.from_records(groupN_statistics, columns = ['denominator','numerator',\n",
    "                                                                                 'confident_level','ctrl_ratio','var_ratio',\n",
    "                                                                                 'perc_lift','abs_lift'])\n",
    "print(dic_final)"
   ]
  },
  {
   "cell_type": "code",
   "execution_count": 10,
   "metadata": {},
   "outputs": [],
   "source": [
    "##output to csv\n",
    "writer = pd.ExcelWriter('Amount Test 0hr 2550.xlsx')\n",
    "for key in dic_final.keys():\n",
    "    dic_final[key].to_excel(writer, sheet_name=key)\n",
    "writer.save()"
   ]
  },
  {
   "cell_type": "code",
   "execution_count": null,
   "metadata": {},
   "outputs": [],
   "source": []
  },
  {
   "cell_type": "markdown",
   "metadata": {},
   "source": [
    "\n",
    "* 48hr: (\\\\$25 vs. \\\\$50)"
   ]
  },
  {
   "cell_type": "code",
   "execution_count": 11,
   "metadata": {},
   "outputs": [],
   "source": [
    "# control group: users who are in the 'off' bucket and any referrals created account within 2 and 32 days\n",
    "# variation group: users who are in the '48hr' bucket and any referrals created account within 30 days after test start (within 2 and 32 days)\n",
    "\n",
    "sql = \"\"\"\n",
    "WITH cte AS (\n",
    "    SELECT * \n",
    "    FROM root.joined_promo_test_transformed\n",
    "    WHERE bucket IN ('off', '48hr') \n",
    "    AND (receiver_account IS NULL \n",
    "    OR (\n",
    "        receiver_account_timestamp BETWEEN DATE_ADD(bucket_timestamp, INTERVAL 2 DAY) \n",
    "        AND \n",
    "        DATE_ADD(bucket_timestamp, INTERVAL 32 DAY))\n",
    "        )\n",
    "    )\n",
    "SELECT bucket, \n",
    "    COUNT(DISTINCT user_id) AS sender,\n",
    "    SUM(CASE WHEN receiver_account = 1 THEN 1 ELSE 0 END) AS account, \n",
    "    SUM(CASE WHEN receiver_quote = 1 THEN 1 ELSE 0 END) AS quote,\n",
    "    SUM(CASE WHEN receiver_policy = 1 THEN 1 ELSE 0 END) AS policy\n",
    "FROM cte\n",
    "GROUP BY bucket;\n",
    "\"\"\"\n",
    "\n",
    "df_Result = pd.read_sql(sql, engine)"
   ]
  },
  {
   "cell_type": "code",
   "execution_count": 12,
   "metadata": {},
   "outputs": [
    {
     "data": {
      "text/html": [
       "<div>\n",
       "<style scoped>\n",
       "    .dataframe tbody tr th:only-of-type {\n",
       "        vertical-align: middle;\n",
       "    }\n",
       "\n",
       "    .dataframe tbody tr th {\n",
       "        vertical-align: top;\n",
       "    }\n",
       "\n",
       "    .dataframe thead th {\n",
       "        text-align: right;\n",
       "    }\n",
       "</style>\n",
       "<table border=\"1\" class=\"dataframe\">\n",
       "  <thead>\n",
       "    <tr style=\"text-align: right;\">\n",
       "      <th></th>\n",
       "      <th>bucket</th>\n",
       "      <th>sender</th>\n",
       "      <th>account</th>\n",
       "      <th>quote</th>\n",
       "      <th>policy</th>\n",
       "    </tr>\n",
       "  </thead>\n",
       "  <tbody>\n",
       "    <tr>\n",
       "      <th>0</th>\n",
       "      <td>48hr</td>\n",
       "      <td>812</td>\n",
       "      <td>146.0</td>\n",
       "      <td>47.0</td>\n",
       "      <td>16.0</td>\n",
       "    </tr>\n",
       "    <tr>\n",
       "      <th>1</th>\n",
       "      <td>off</td>\n",
       "      <td>866</td>\n",
       "      <td>102.0</td>\n",
       "      <td>34.0</td>\n",
       "      <td>8.0</td>\n",
       "    </tr>\n",
       "  </tbody>\n",
       "</table>\n",
       "</div>"
      ],
      "text/plain": [
       "  bucket  sender  account  quote  policy\n",
       "0   48hr     812    146.0   47.0    16.0\n",
       "1    off     866    102.0   34.0     8.0"
      ]
     },
     "execution_count": 12,
     "metadata": {},
     "output_type": "execute_result"
    }
   ],
   "source": [
    "df_Result"
   ]
  },
  {
   "cell_type": "code",
   "execution_count": 13,
   "metadata": {},
   "outputs": [],
   "source": [
    "df_Result.index = [1,0]\n",
    "df_Result = df_Result.sort_index()"
   ]
  },
  {
   "cell_type": "code",
   "execution_count": 14,
   "metadata": {},
   "outputs": [
    {
     "data": {
      "text/html": [
       "<div>\n",
       "<style scoped>\n",
       "    .dataframe tbody tr th:only-of-type {\n",
       "        vertical-align: middle;\n",
       "    }\n",
       "\n",
       "    .dataframe tbody tr th {\n",
       "        vertical-align: top;\n",
       "    }\n",
       "\n",
       "    .dataframe thead th {\n",
       "        text-align: right;\n",
       "    }\n",
       "</style>\n",
       "<table border=\"1\" class=\"dataframe\">\n",
       "  <thead>\n",
       "    <tr style=\"text-align: right;\">\n",
       "      <th></th>\n",
       "      <th>bucket</th>\n",
       "      <th>sender</th>\n",
       "      <th>account</th>\n",
       "      <th>quote</th>\n",
       "      <th>policy</th>\n",
       "    </tr>\n",
       "  </thead>\n",
       "  <tbody>\n",
       "    <tr>\n",
       "      <th>0</th>\n",
       "      <td>off</td>\n",
       "      <td>866</td>\n",
       "      <td>102.0</td>\n",
       "      <td>34.0</td>\n",
       "      <td>8.0</td>\n",
       "    </tr>\n",
       "    <tr>\n",
       "      <th>1</th>\n",
       "      <td>48hr</td>\n",
       "      <td>812</td>\n",
       "      <td>146.0</td>\n",
       "      <td>47.0</td>\n",
       "      <td>16.0</td>\n",
       "    </tr>\n",
       "  </tbody>\n",
       "</table>\n",
       "</div>"
      ],
      "text/plain": [
       "  bucket  sender  account  quote  policy\n",
       "0    off     866    102.0   34.0     8.0\n",
       "1   48hr     812    146.0   47.0    16.0"
      ]
     },
     "execution_count": 14,
     "metadata": {},
     "output_type": "execute_result"
    }
   ],
   "source": [
    "df_Result"
   ]
  },
  {
   "cell_type": "code",
   "execution_count": 15,
   "metadata": {},
   "outputs": [
    {
     "name": "stdout",
     "output_type": "stream",
     "text": [
      "{'Amount Test 48hr 2550':   denominator numerator  confident_level  ctrl_ratio  var_ratio  perc_lift  \\\n",
      "0      sender   account         0.999822    0.117783   0.179803   0.526562   \n",
      "1     account     quote         0.574695    0.333333   0.321918  -0.034247   \n",
      "2       quote    policy         0.852608    0.235294   0.340426   0.446809   \n",
      "3      sender     quote         0.961611    0.039261   0.057882   0.474283   \n",
      "4      sender    policy         0.962922    0.009238   0.019704   1.133005   \n",
      "\n",
      "   abs_lift  \n",
      "0  0.062020  \n",
      "1 -0.011416  \n",
      "2  0.105131  \n",
      "3  0.018621  \n",
      "4  0.010467  }\n"
     ]
    }
   ],
   "source": [
    "dic_final = {}\n",
    "for i in df_Result.index:\n",
    "    if i != 0:\n",
    "        test_group_n = df_Result.loc[[0, i],]\n",
    "        test_group_n.index = [0,1]\n",
    "\n",
    "        groupN_statistics = []\n",
    "        for deno, nume in KPIs:\n",
    "            groupN_statistics.append(z_test_calculator(test_group_n, deno, nume))\n",
    "        key = 'Amount Test 48hr 2550'\n",
    "        dic_final[key] = pd.DataFrame.from_records(groupN_statistics, columns = ['denominator','numerator',\n",
    "                                                                                 'confident_level','ctrl_ratio','var_ratio',\n",
    "                                                                                 'perc_lift','abs_lift'])\n",
    "print(dic_final)"
   ]
  },
  {
   "cell_type": "code",
   "execution_count": 16,
   "metadata": {},
   "outputs": [],
   "source": [
    "##output to csv\n",
    "writer = pd.ExcelWriter('Amount Test 48hr 2550.xlsx')\n",
    "for key in dic_final.keys():\n",
    "    dic_final[key].to_excel(writer, sheet_name=key)\n",
    "writer.save()"
   ]
  },
  {
   "cell_type": "markdown",
   "metadata": {},
   "source": [
    "\n",
    "* 168hr: (\\\\$25 vs. \\\\$50)"
   ]
  },
  {
   "cell_type": "code",
   "execution_count": 17,
   "metadata": {},
   "outputs": [],
   "source": [
    "# control group: users who are in the 'off' bucket and any referrals created account within 7 and 37 days\n",
    "# variation group: users who are in the '168hr' bucket and any referrals created account within 30 days after test start (within 7 and 37 days)\n",
    "\n",
    "sql = \"\"\"\n",
    "WITH cte AS (\n",
    "    SELECT * \n",
    "    FROM root.joined_promo_test_transformed\n",
    "    WHERE bucket IN ('off', '168hr') \n",
    "    AND (receiver_account IS NULL \n",
    "    OR (\n",
    "        receiver_account_timestamp BETWEEN DATE_ADD(bucket_timestamp, INTERVAL 7 DAY) \n",
    "        AND \n",
    "        DATE_ADD(bucket_timestamp, INTERVAL 37 DAY))\n",
    "        )\n",
    "    )\n",
    "SELECT bucket, \n",
    "    COUNT(DISTINCT user_id) AS sender,\n",
    "    SUM(CASE WHEN receiver_account = 1 THEN 1 ELSE 0 END) AS account, \n",
    "    SUM(CASE WHEN receiver_quote = 1 THEN 1 ELSE 0 END) AS quote,\n",
    "    SUM(CASE WHEN receiver_policy = 1 THEN 1 ELSE 0 END) AS policy\n",
    "FROM cte\n",
    "GROUP BY bucket;\n",
    "\n",
    "\"\"\"\n",
    "\n",
    "df_Result = pd.read_sql(sql, engine)"
   ]
  },
  {
   "cell_type": "code",
   "execution_count": 18,
   "metadata": {},
   "outputs": [
    {
     "data": {
      "text/html": [
       "<div>\n",
       "<style scoped>\n",
       "    .dataframe tbody tr th:only-of-type {\n",
       "        vertical-align: middle;\n",
       "    }\n",
       "\n",
       "    .dataframe tbody tr th {\n",
       "        vertical-align: top;\n",
       "    }\n",
       "\n",
       "    .dataframe thead th {\n",
       "        text-align: right;\n",
       "    }\n",
       "</style>\n",
       "<table border=\"1\" class=\"dataframe\">\n",
       "  <thead>\n",
       "    <tr style=\"text-align: right;\">\n",
       "      <th></th>\n",
       "      <th>bucket</th>\n",
       "      <th>sender</th>\n",
       "      <th>account</th>\n",
       "      <th>quote</th>\n",
       "      <th>policy</th>\n",
       "    </tr>\n",
       "  </thead>\n",
       "  <tbody>\n",
       "    <tr>\n",
       "      <th>0</th>\n",
       "      <td>168hr</td>\n",
       "      <td>705</td>\n",
       "      <td>116.0</td>\n",
       "      <td>36.0</td>\n",
       "      <td>8.0</td>\n",
       "    </tr>\n",
       "    <tr>\n",
       "      <th>1</th>\n",
       "      <td>off</td>\n",
       "      <td>847</td>\n",
       "      <td>76.0</td>\n",
       "      <td>26.0</td>\n",
       "      <td>7.0</td>\n",
       "    </tr>\n",
       "  </tbody>\n",
       "</table>\n",
       "</div>"
      ],
      "text/plain": [
       "  bucket  sender  account  quote  policy\n",
       "0  168hr     705    116.0   36.0     8.0\n",
       "1    off     847     76.0   26.0     7.0"
      ]
     },
     "execution_count": 18,
     "metadata": {},
     "output_type": "execute_result"
    }
   ],
   "source": [
    "df_Result"
   ]
  },
  {
   "cell_type": "code",
   "execution_count": 19,
   "metadata": {},
   "outputs": [],
   "source": [
    "df_Result.index = [1,0]\n",
    "df_Result = df_Result.sort_index()"
   ]
  },
  {
   "cell_type": "code",
   "execution_count": 20,
   "metadata": {},
   "outputs": [
    {
     "data": {
      "text/html": [
       "<div>\n",
       "<style scoped>\n",
       "    .dataframe tbody tr th:only-of-type {\n",
       "        vertical-align: middle;\n",
       "    }\n",
       "\n",
       "    .dataframe tbody tr th {\n",
       "        vertical-align: top;\n",
       "    }\n",
       "\n",
       "    .dataframe thead th {\n",
       "        text-align: right;\n",
       "    }\n",
       "</style>\n",
       "<table border=\"1\" class=\"dataframe\">\n",
       "  <thead>\n",
       "    <tr style=\"text-align: right;\">\n",
       "      <th></th>\n",
       "      <th>bucket</th>\n",
       "      <th>sender</th>\n",
       "      <th>account</th>\n",
       "      <th>quote</th>\n",
       "      <th>policy</th>\n",
       "    </tr>\n",
       "  </thead>\n",
       "  <tbody>\n",
       "    <tr>\n",
       "      <th>0</th>\n",
       "      <td>off</td>\n",
       "      <td>847</td>\n",
       "      <td>76.0</td>\n",
       "      <td>26.0</td>\n",
       "      <td>7.0</td>\n",
       "    </tr>\n",
       "    <tr>\n",
       "      <th>1</th>\n",
       "      <td>168hr</td>\n",
       "      <td>705</td>\n",
       "      <td>116.0</td>\n",
       "      <td>36.0</td>\n",
       "      <td>8.0</td>\n",
       "    </tr>\n",
       "  </tbody>\n",
       "</table>\n",
       "</div>"
      ],
      "text/plain": [
       "  bucket  sender  account  quote  policy\n",
       "0    off     847     76.0   26.0     7.0\n",
       "1  168hr     705    116.0   36.0     8.0"
      ]
     },
     "execution_count": 20,
     "metadata": {},
     "output_type": "execute_result"
    }
   ],
   "source": [
    "df_Result"
   ]
  },
  {
   "cell_type": "code",
   "execution_count": 21,
   "metadata": {},
   "outputs": [
    {
     "name": "stdout",
     "output_type": "stream",
     "text": [
      "{'Amount Test 168hr 2550':   denominator numerator  confident_level  ctrl_ratio  var_ratio  perc_lift  \\\n",
      "0      sender   account         0.999994    0.089728   0.164539   0.833744   \n",
      "1     account     quote         0.676564    0.342105   0.310345  -0.092838   \n",
      "2       quote    policy         0.663740    0.269231   0.222222  -0.174603   \n",
      "3      sender     quote         0.977169    0.030697   0.051064   0.663502   \n",
      "4      sender    policy         0.728891    0.008264   0.011348   0.373050   \n",
      "\n",
      "   abs_lift  \n",
      "0  0.074811  \n",
      "1 -0.031760  \n",
      "2 -0.047009  \n",
      "3  0.020367  \n",
      "4  0.003083  }\n"
     ]
    }
   ],
   "source": [
    "dic_final = {}\n",
    "for i in df_Result.index:\n",
    "    if i != 0:\n",
    "        test_group_n = df_Result.loc[[0, i],]\n",
    "        test_group_n.index = [0,1]\n",
    "\n",
    "        groupN_statistics = []\n",
    "        for deno, nume in KPIs:\n",
    "            groupN_statistics.append(z_test_calculator(test_group_n, deno, nume))\n",
    "        key = 'Amount Test 168hr 2550'.format(i)\n",
    "        dic_final[key] = pd.DataFrame.from_records(groupN_statistics, columns = ['denominator','numerator',\n",
    "                                                                                 'confident_level','ctrl_ratio','var_ratio',\n",
    "                                                                                 'perc_lift','abs_lift'])\n",
    "print(dic_final)"
   ]
  },
  {
   "cell_type": "code",
   "execution_count": 22,
   "metadata": {},
   "outputs": [],
   "source": [
    "##output to csv\n",
    "writer = pd.ExcelWriter('Amount Test 168hr 2550.xlsx')\n",
    "for key in dic_final.keys():\n",
    "    dic_final[key].to_excel(writer, sheet_name=key)\n",
    "writer.save()"
   ]
  },
  {
   "cell_type": "code",
   "execution_count": null,
   "metadata": {},
   "outputs": [],
   "source": []
  },
  {
   "cell_type": "markdown",
   "metadata": {},
   "source": [
    "### b. Promotion Time\n",
    "\\\\$50:  (0 / 2 / 7 days)"
   ]
  },
  {
   "cell_type": "code",
   "execution_count": 23,
   "metadata": {},
   "outputs": [],
   "source": [
    "# Users who are in '0hr, 48hr, 168hr' bucket and any referrals created within 30-days window respectively.\n",
    "\n",
    "sql = \"\"\"\n",
    "WITH cte AS (\n",
    "    SELECT * \n",
    "    FROM root.joined_promo_test_transformed\n",
    "    WHERE bucket <> 'off' AND (receiver_account IS NULL OR (receiver_account_timestamp BETWEEN `start` AND `end`))\n",
    "    )\n",
    "SELECT bucket, \n",
    "    COUNT(DISTINCT user_id) AS sender,\n",
    "    SUM(CASE WHEN receiver_account = 1 THEN 1 ELSE 0 END) AS account, \n",
    "    SUM(CASE WHEN receiver_quote = 1 THEN 1 ELSE 0 END) AS quote,\n",
    "    SUM(CASE WHEN receiver_policy = 1 THEN 1 ELSE 0 END) AS policy\n",
    "FROM cte\n",
    "GROUP BY bucket;\n",
    "\"\"\"\n",
    "df_Result = pd.read_sql(sql, engine)"
   ]
  },
  {
   "cell_type": "code",
   "execution_count": 24,
   "metadata": {},
   "outputs": [
    {
     "data": {
      "text/html": [
       "<div>\n",
       "<style scoped>\n",
       "    .dataframe tbody tr th:only-of-type {\n",
       "        vertical-align: middle;\n",
       "    }\n",
       "\n",
       "    .dataframe tbody tr th {\n",
       "        vertical-align: top;\n",
       "    }\n",
       "\n",
       "    .dataframe thead th {\n",
       "        text-align: right;\n",
       "    }\n",
       "</style>\n",
       "<table border=\"1\" class=\"dataframe\">\n",
       "  <thead>\n",
       "    <tr style=\"text-align: right;\">\n",
       "      <th></th>\n",
       "      <th>bucket</th>\n",
       "      <th>sender</th>\n",
       "      <th>account</th>\n",
       "      <th>quote</th>\n",
       "      <th>policy</th>\n",
       "    </tr>\n",
       "  </thead>\n",
       "  <tbody>\n",
       "    <tr>\n",
       "      <th>0</th>\n",
       "      <td>0hr</td>\n",
       "      <td>851</td>\n",
       "      <td>263.0</td>\n",
       "      <td>99.0</td>\n",
       "      <td>31.0</td>\n",
       "    </tr>\n",
       "    <tr>\n",
       "      <th>1</th>\n",
       "      <td>168hr</td>\n",
       "      <td>705</td>\n",
       "      <td>116.0</td>\n",
       "      <td>36.0</td>\n",
       "      <td>8.0</td>\n",
       "    </tr>\n",
       "    <tr>\n",
       "      <th>2</th>\n",
       "      <td>48hr</td>\n",
       "      <td>812</td>\n",
       "      <td>146.0</td>\n",
       "      <td>47.0</td>\n",
       "      <td>16.0</td>\n",
       "    </tr>\n",
       "  </tbody>\n",
       "</table>\n",
       "</div>"
      ],
      "text/plain": [
       "  bucket  sender  account  quote  policy\n",
       "0    0hr     851    263.0   99.0    31.0\n",
       "1  168hr     705    116.0   36.0     8.0\n",
       "2   48hr     812    146.0   47.0    16.0"
      ]
     },
     "execution_count": 24,
     "metadata": {},
     "output_type": "execute_result"
    }
   ],
   "source": [
    "df_Result"
   ]
  },
  {
   "cell_type": "code",
   "execution_count": 25,
   "metadata": {},
   "outputs": [],
   "source": [
    "# Always put control group records in the line with index=0\n",
    "df_Result.index = [0,2,1]\n",
    "df_Result = df_Result.sort_index()"
   ]
  },
  {
   "cell_type": "code",
   "execution_count": 26,
   "metadata": {},
   "outputs": [
    {
     "data": {
      "text/html": [
       "<div>\n",
       "<style scoped>\n",
       "    .dataframe tbody tr th:only-of-type {\n",
       "        vertical-align: middle;\n",
       "    }\n",
       "\n",
       "    .dataframe tbody tr th {\n",
       "        vertical-align: top;\n",
       "    }\n",
       "\n",
       "    .dataframe thead th {\n",
       "        text-align: right;\n",
       "    }\n",
       "</style>\n",
       "<table border=\"1\" class=\"dataframe\">\n",
       "  <thead>\n",
       "    <tr style=\"text-align: right;\">\n",
       "      <th></th>\n",
       "      <th>bucket</th>\n",
       "      <th>sender</th>\n",
       "      <th>account</th>\n",
       "      <th>quote</th>\n",
       "      <th>policy</th>\n",
       "    </tr>\n",
       "  </thead>\n",
       "  <tbody>\n",
       "    <tr>\n",
       "      <th>0</th>\n",
       "      <td>0hr</td>\n",
       "      <td>851</td>\n",
       "      <td>263.0</td>\n",
       "      <td>99.0</td>\n",
       "      <td>31.0</td>\n",
       "    </tr>\n",
       "    <tr>\n",
       "      <th>1</th>\n",
       "      <td>48hr</td>\n",
       "      <td>812</td>\n",
       "      <td>146.0</td>\n",
       "      <td>47.0</td>\n",
       "      <td>16.0</td>\n",
       "    </tr>\n",
       "    <tr>\n",
       "      <th>2</th>\n",
       "      <td>168hr</td>\n",
       "      <td>705</td>\n",
       "      <td>116.0</td>\n",
       "      <td>36.0</td>\n",
       "      <td>8.0</td>\n",
       "    </tr>\n",
       "  </tbody>\n",
       "</table>\n",
       "</div>"
      ],
      "text/plain": [
       "  bucket  sender  account  quote  policy\n",
       "0    0hr     851    263.0   99.0    31.0\n",
       "1   48hr     812    146.0   47.0    16.0\n",
       "2  168hr     705    116.0   36.0     8.0"
      ]
     },
     "execution_count": 26,
     "metadata": {},
     "output_type": "execute_result"
    }
   ],
   "source": [
    "df_Result"
   ]
  },
  {
   "cell_type": "code",
   "execution_count": 27,
   "metadata": {
    "scrolled": true
   },
   "outputs": [
    {
     "name": "stdout",
     "output_type": "stream",
     "text": [
      "{'Promo Time Test 1  50 027d':   denominator numerator  confident_level  ctrl_ratio  var_ratio  perc_lift  \\\n",
      "0      sender   account         1.000000    0.309048   0.179803  -0.418204   \n",
      "1     account     quote         0.867686    0.376426   0.321918  -0.144804   \n",
      "2       quote    policy         0.628318    0.313131   0.340426   0.087165   \n",
      "3      sender     quote         0.999990    0.116334   0.057882  -0.502451   \n",
      "4      sender    policy         0.980947    0.036428   0.019704  -0.459082   \n",
      "\n",
      "   abs_lift  \n",
      "0 -0.129245  \n",
      "1 -0.054508  \n",
      "2  0.027294  \n",
      "3 -0.058452  \n",
      "4 -0.016723  , 'Promo Time Test 2  50 027d':   denominator numerator  confident_level  ctrl_ratio  var_ratio  perc_lift  \\\n",
      "0      sender   account         1.000000    0.309048   0.164539  -0.467594   \n",
      "1     account     quote         0.896699    0.376426   0.310345  -0.175549   \n",
      "2       quote    policy         0.861840    0.313131   0.222222  -0.290323   \n",
      "3      sender     quote         0.999999    0.116334   0.051064  -0.561057   \n",
      "4      sender    policy         0.999546    0.036428   0.011348  -0.688492   \n",
      "\n",
      "   abs_lift  \n",
      "0 -0.144509  \n",
      "1 -0.066081  \n",
      "2 -0.090909  \n",
      "3 -0.065270  \n",
      "4 -0.025080  }\n"
     ]
    }
   ],
   "source": [
    "#  Calulate statistical measures\n",
    "dic_final = {}\n",
    "for i in df_Result.index:\n",
    "    if i != 0:\n",
    "        test_group_n = df_Result.loc[[0, i],]\n",
    "        test_group_n.index = [0,1]\n",
    "\n",
    "        groupN_statistics = []\n",
    "        for deno, nume in KPIs:\n",
    "            groupN_statistics.append(z_test_calculator(test_group_n, deno, nume))\n",
    "        key = 'Promo Time Test {}  50 027d'.format(i)\n",
    "        dic_final[key] = pd.DataFrame.from_records(groupN_statistics, columns = ['denominator','numerator',\n",
    "                                                                                 'confident_level','ctrl_ratio','var_ratio',\n",
    "                                                                                 'perc_lift','abs_lift'])\n",
    "print(dic_final)"
   ]
  },
  {
   "cell_type": "code",
   "execution_count": 28,
   "metadata": {},
   "outputs": [],
   "source": [
    "## output to csv\n",
    "writer = pd.ExcelWriter('Promo Time Test 50 027d.xlsx')\n",
    "for key in dic_final.keys():\n",
    "    dic_final[key].to_excel(writer, sheet_name=key)\n",
    "writer.save()"
   ]
  },
  {
   "cell_type": "code",
   "execution_count": null,
   "metadata": {},
   "outputs": [],
   "source": []
  },
  {
   "cell_type": "markdown",
   "metadata": {},
   "source": [
    "### c. Combined Impact: amount and time impact"
   ]
  },
  {
   "cell_type": "code",
   "execution_count": 29,
   "metadata": {},
   "outputs": [],
   "source": [
    "# Compare the combined impact ($50 & Promo starts 2 days after buying a policy)\n",
    "\n",
    "sql = \"\"\"\n",
    "SELECT bucket, \n",
    "    COUNT(DISTINCT user_id) AS sender,\n",
    "    SUM(CASE WHEN receiver_account = 1 THEN 1 ELSE 0 END) AS account, \n",
    "    SUM(CASE WHEN receiver_quote = 1 THEN 1 ELSE 0 END) AS quote,\n",
    "    SUM(CASE WHEN receiver_policy = 1 THEN 1 ELSE 0 END) AS policy\n",
    "FROM (\n",
    "    SELECT *\n",
    "    FROM root.joined_promo_test_transformed\n",
    "    WHERE bucket = 'off' \n",
    "    AND (receiver_account IS NULL OR (receiver_account_timestamp BETWEEN bucket_timestamp AND DATE_ADD(bucket_timestamp, INTERVAL 30 DAY)))\n",
    "    ) sub1\n",
    "GROUP BY bucket\n",
    "UNION\n",
    "SELECT bucket, \n",
    "    COUNT(DISTINCT user_id) AS sender,\n",
    "    SUM(CASE WHEN receiver_account = 1 THEN 1 ELSE 0 END) AS account, \n",
    "    SUM(CASE WHEN receiver_quote = 1 THEN 1 ELSE 0 END) AS quote,\n",
    "    SUM(CASE WHEN receiver_policy = 1 THEN 1 ELSE 0 END) AS policy\n",
    "FROM (\n",
    "    SELECT *\n",
    "    FROM root.joined_promo_test_transformed\n",
    "    WHERE bucket = '48hr' \n",
    "    AND (receiver_account IS NULL OR (receiver_account_timestamp BETWEEN DATE_ADD(bucket_timestamp, INTERVAL 2 DAY) AND DATE_ADD(bucket_timestamp, INTERVAL 32 DAY)))\n",
    "    ) sub2\n",
    "GROUP BY bucket;\n",
    "\"\"\"\n",
    "\n",
    "df_Result = pd.read_sql(sql, engine)"
   ]
  },
  {
   "cell_type": "code",
   "execution_count": 30,
   "metadata": {},
   "outputs": [
    {
     "data": {
      "text/html": [
       "<div>\n",
       "<style scoped>\n",
       "    .dataframe tbody tr th:only-of-type {\n",
       "        vertical-align: middle;\n",
       "    }\n",
       "\n",
       "    .dataframe tbody tr th {\n",
       "        vertical-align: top;\n",
       "    }\n",
       "\n",
       "    .dataframe thead th {\n",
       "        text-align: right;\n",
       "    }\n",
       "</style>\n",
       "<table border=\"1\" class=\"dataframe\">\n",
       "  <thead>\n",
       "    <tr style=\"text-align: right;\">\n",
       "      <th></th>\n",
       "      <th>bucket</th>\n",
       "      <th>sender</th>\n",
       "      <th>account</th>\n",
       "      <th>quote</th>\n",
       "      <th>policy</th>\n",
       "    </tr>\n",
       "  </thead>\n",
       "  <tbody>\n",
       "    <tr>\n",
       "      <th>0</th>\n",
       "      <td>off</td>\n",
       "      <td>909</td>\n",
       "      <td>167.0</td>\n",
       "      <td>58.0</td>\n",
       "      <td>15.0</td>\n",
       "    </tr>\n",
       "    <tr>\n",
       "      <th>1</th>\n",
       "      <td>48hr</td>\n",
       "      <td>812</td>\n",
       "      <td>146.0</td>\n",
       "      <td>47.0</td>\n",
       "      <td>16.0</td>\n",
       "    </tr>\n",
       "  </tbody>\n",
       "</table>\n",
       "</div>"
      ],
      "text/plain": [
       "  bucket  sender  account  quote  policy\n",
       "0    off     909    167.0   58.0    15.0\n",
       "1   48hr     812    146.0   47.0    16.0"
      ]
     },
     "execution_count": 30,
     "metadata": {},
     "output_type": "execute_result"
    }
   ],
   "source": [
    "df_Result"
   ]
  },
  {
   "cell_type": "code",
   "execution_count": 31,
   "metadata": {},
   "outputs": [
    {
     "name": "stdout",
     "output_type": "stream",
     "text": [
      "{'Comb impact 50 48hr vs 25 0hr':   denominator numerator  confident_level  ctrl_ratio  var_ratio  perc_lift  \\\n",
      "0      sender   account         0.583288    0.183718   0.179803  -0.021312   \n",
      "1     account     quote         0.682729    0.347305   0.321918  -0.073099   \n",
      "2       quote    policy         0.818560    0.258621   0.340426   0.316312   \n",
      "3      sender     quote         0.696365    0.063806   0.057882  -0.092853   \n",
      "4      sender    policy         0.690165    0.016502   0.019704   0.194089   \n",
      "\n",
      "   abs_lift  \n",
      "0 -0.003915  \n",
      "1 -0.025388  \n",
      "2  0.081805  \n",
      "3 -0.005925  \n",
      "4  0.003203  }\n"
     ]
    }
   ],
   "source": [
    "# Calulate statistical measures\n",
    "dic_final = {}\n",
    "for i in df_Result.index:\n",
    "    if i != 0:\n",
    "        test_group_n = df_Result.loc[[0, i],]\n",
    "        test_group_n.index = [0,1]\n",
    "\n",
    "        groupN_statistics = []\n",
    "        for deno, nume in KPIs:\n",
    "            groupN_statistics.append(z_test_calculator(test_group_n, deno, nume))\n",
    "        key = 'Comb impact 50 48hr vs 25 0hr'\n",
    "        dic_final[key] = pd.DataFrame.from_records(groupN_statistics, columns = ['denominator','numerator',\n",
    "                                                                                 'confident_level','ctrl_ratio','var_ratio',\n",
    "                                                                                 'perc_lift','abs_lift'])\n",
    "print(dic_final)"
   ]
  },
  {
   "cell_type": "code",
   "execution_count": 32,
   "metadata": {},
   "outputs": [],
   "source": [
    "## output to csv\n",
    "writer = pd.ExcelWriter('Comb impact 50 48hr vs 25 0hr.xlsx')\n",
    "for key in dic_final.keys():\n",
    "    dic_final[key].to_excel(writer, sheet_name=key)\n",
    "writer.save()"
   ]
  },
  {
   "cell_type": "code",
   "execution_count": null,
   "metadata": {},
   "outputs": [],
   "source": []
  },
  {
   "cell_type": "code",
   "execution_count": 33,
   "metadata": {},
   "outputs": [],
   "source": [
    "# Compare the combined impact ($50 & Promo starts 7 days after buying a policy)\n",
    "sql = \"\"\"\n",
    "SELECT bucket, \n",
    "    COUNT(DISTINCT user_id) AS sender,\n",
    "    SUM(CASE WHEN receiver_account = 1 THEN 1 ELSE 0 END) AS account, \n",
    "    SUM(CASE WHEN receiver_quote = 1 THEN 1 ELSE 0 END) AS quote,\n",
    "    SUM(CASE WHEN receiver_policy = 1 THEN 1 ELSE 0 END) AS policy\n",
    "FROM (\n",
    "    SELECT *\n",
    "    FROM root.joined_promo_test_transformed\n",
    "    WHERE bucket = 'off' \n",
    "    AND (receiver_account IS NULL OR (receiver_account_timestamp BETWEEN bucket_timestamp AND DATE_ADD(bucket_timestamp, INTERVAL 30 DAY)))\n",
    "    ) sub1\n",
    "GROUP BY bucket\n",
    "UNION\n",
    "SELECT bucket, \n",
    "    COUNT(DISTINCT user_id) AS sender,\n",
    "    SUM(CASE WHEN receiver_account = 1 THEN 1 ELSE 0 END) AS account, \n",
    "    SUM(CASE WHEN receiver_quote = 1 THEN 1 ELSE 0 END) AS quote,\n",
    "    SUM(CASE WHEN receiver_policy = 1 THEN 1 ELSE 0 END) AS policy\n",
    "FROM (\n",
    "    SELECT *\n",
    "    FROM root.joined_promo_test_transformed\n",
    "    WHERE bucket = '168hr' \n",
    "    AND (receiver_account IS NULL OR (receiver_account_timestamp BETWEEN DATE_ADD(bucket_timestamp, INTERVAL 7 DAY) AND DATE_ADD(bucket_timestamp, INTERVAL 37 DAY)))\n",
    "    ) sub2\n",
    "GROUP BY bucket;\n",
    "\"\"\"\n",
    "\n",
    "df_Result = pd.read_sql(sql, engine)"
   ]
  },
  {
   "cell_type": "code",
   "execution_count": 34,
   "metadata": {},
   "outputs": [
    {
     "data": {
      "text/html": [
       "<div>\n",
       "<style scoped>\n",
       "    .dataframe tbody tr th:only-of-type {\n",
       "        vertical-align: middle;\n",
       "    }\n",
       "\n",
       "    .dataframe tbody tr th {\n",
       "        vertical-align: top;\n",
       "    }\n",
       "\n",
       "    .dataframe thead th {\n",
       "        text-align: right;\n",
       "    }\n",
       "</style>\n",
       "<table border=\"1\" class=\"dataframe\">\n",
       "  <thead>\n",
       "    <tr style=\"text-align: right;\">\n",
       "      <th></th>\n",
       "      <th>bucket</th>\n",
       "      <th>sender</th>\n",
       "      <th>account</th>\n",
       "      <th>quote</th>\n",
       "      <th>policy</th>\n",
       "    </tr>\n",
       "  </thead>\n",
       "  <tbody>\n",
       "    <tr>\n",
       "      <th>0</th>\n",
       "      <td>off</td>\n",
       "      <td>909</td>\n",
       "      <td>167.0</td>\n",
       "      <td>58.0</td>\n",
       "      <td>15.0</td>\n",
       "    </tr>\n",
       "    <tr>\n",
       "      <th>1</th>\n",
       "      <td>168hr</td>\n",
       "      <td>705</td>\n",
       "      <td>116.0</td>\n",
       "      <td>36.0</td>\n",
       "      <td>8.0</td>\n",
       "    </tr>\n",
       "  </tbody>\n",
       "</table>\n",
       "</div>"
      ],
      "text/plain": [
       "  bucket  sender  account  quote  policy\n",
       "0    off     909    167.0   58.0    15.0\n",
       "1  168hr     705    116.0   36.0     8.0"
      ]
     },
     "execution_count": 34,
     "metadata": {},
     "output_type": "execute_result"
    }
   ],
   "source": [
    "df_Result"
   ]
  },
  {
   "cell_type": "code",
   "execution_count": 35,
   "metadata": {},
   "outputs": [
    {
     "name": "stdout",
     "output_type": "stream",
     "text": [
      "{'Comb impact 50 168hr vs 25 0hr':   denominator numerator  confident_level  ctrl_ratio  var_ratio  perc_lift  \\\n",
      "0      sender   account         0.843965    0.183718   0.164539  -0.104395   \n",
      "1     account     quote         0.743162    0.347305   0.310345  -0.106421   \n",
      "2       quote    policy         0.656988    0.258621   0.222222  -0.140741   \n",
      "3      sender     quote         0.864106    0.063806   0.051064  -0.199707   \n",
      "4      sender    policy         0.812452    0.016502   0.011348  -0.312340   \n",
      "\n",
      "   abs_lift  \n",
      "0 -0.019179  \n",
      "1 -0.036961  \n",
      "2 -0.036398  \n",
      "3 -0.012743  \n",
      "4 -0.005154  }\n"
     ]
    }
   ],
   "source": [
    "# Calulate statistical measures\n",
    "dic_final = {}\n",
    "for i in df_Result.index:\n",
    "    if i != 0:\n",
    "        test_group_n = df_Result.loc[[0, i],]\n",
    "        test_group_n.index = [0,1]\n",
    "\n",
    "        groupN_statistics = []\n",
    "        for deno, nume in KPIs:\n",
    "            groupN_statistics.append(z_test_calculator(test_group_n, deno, nume))\n",
    "        key = 'Comb impact 50 168hr vs 25 0hr'\n",
    "        dic_final[key] = pd.DataFrame.from_records(groupN_statistics, columns = ['denominator','numerator',\n",
    "                                                                                 'confident_level','ctrl_ratio','var_ratio',\n",
    "                                                                                 'perc_lift','abs_lift'])\n",
    "print(dic_final)"
   ]
  },
  {
   "cell_type": "code",
   "execution_count": 36,
   "metadata": {},
   "outputs": [],
   "source": [
    "##output to csv\n",
    "writer = pd.ExcelWriter('Comb impact 50 168hr vs 25 0hr.xlsx')\n",
    "for key in dic_final.keys():\n",
    "    dic_final[key].to_excel(writer, sheet_name=key)\n",
    "writer.save()"
   ]
  },
  {
   "cell_type": "markdown",
   "metadata": {},
   "source": [
    "# 3. Analyze the performance of each test group\n",
    "For the rest of analysis and presentation, please see the PowerPoint Attached"
   ]
  },
  {
   "cell_type": "code",
   "execution_count": 37,
   "metadata": {},
   "outputs": [
    {
     "data": {
      "text/html": [
       "<div>\n",
       "<style scoped>\n",
       "    .dataframe tbody tr th:only-of-type {\n",
       "        vertical-align: middle;\n",
       "    }\n",
       "\n",
       "    .dataframe tbody tr th {\n",
       "        vertical-align: top;\n",
       "    }\n",
       "\n",
       "    .dataframe thead th {\n",
       "        text-align: right;\n",
       "    }\n",
       "</style>\n",
       "<table border=\"1\" class=\"dataframe\">\n",
       "  <thead>\n",
       "    <tr style=\"text-align: right;\">\n",
       "      <th></th>\n",
       "      <th>bucket</th>\n",
       "      <th>total_revenue</th>\n",
       "      <th>total_cost</th>\n",
       "      <th>total_profit</th>\n",
       "      <th>ROI</th>\n",
       "    </tr>\n",
       "  </thead>\n",
       "  <tbody>\n",
       "    <tr>\n",
       "      <th>0</th>\n",
       "      <td>ctrl</td>\n",
       "      <td>9000</td>\n",
       "      <td>2900.0</td>\n",
       "      <td>6100.0</td>\n",
       "      <td>2.10</td>\n",
       "    </tr>\n",
       "    <tr>\n",
       "      <th>1</th>\n",
       "      <td>0hr</td>\n",
       "      <td>18600</td>\n",
       "      <td>9725.0</td>\n",
       "      <td>8875.0</td>\n",
       "      <td>0.91</td>\n",
       "    </tr>\n",
       "    <tr>\n",
       "      <th>2</th>\n",
       "      <td>48hr</td>\n",
       "      <td>9600</td>\n",
       "      <td>4600.0</td>\n",
       "      <td>5000.0</td>\n",
       "      <td>1.09</td>\n",
       "    </tr>\n",
       "    <tr>\n",
       "      <th>3</th>\n",
       "      <td>168hr</td>\n",
       "      <td>4800</td>\n",
       "      <td>3350.0</td>\n",
       "      <td>1450.0</td>\n",
       "      <td>0.43</td>\n",
       "    </tr>\n",
       "  </tbody>\n",
       "</table>\n",
       "</div>"
      ],
      "text/plain": [
       "  bucket  total_revenue  total_cost  total_profit   ROI\n",
       "0   ctrl           9000      2900.0        6100.0  2.10\n",
       "1    0hr          18600      9725.0        8875.0  0.91\n",
       "2   48hr           9600      4600.0        5000.0  1.09\n",
       "3  168hr           4800      3350.0        1450.0  0.43"
      ]
     },
     "execution_count": 37,
     "metadata": {},
     "output_type": "execute_result"
    }
   ],
   "source": [
    "# ROI analysis and Total Revenue \n",
    "sql = \"\"\"\n",
    "-- off\n",
    "WITH rev_ctrl AS\n",
    "(SELECT COUNT(*) * 600 AS total_revenue\n",
    "FROM root.joined_promo_test_transformed\n",
    "WHERE bucket = 'off' AND receiver_policy=1 AND (receiver_account_timestamp BETWEEN bucket_timestamp AND DATE_ADD(bucket_timestamp, INTERVAL 30 DAY))),\n",
    "cost_ctrl AS (\n",
    "SELECT SUM(IFNULL(sender_earned_amount_in_dollars, 0) + IFNULL(receiver_earned_amount_in_dollars,0)) AS total_cost\n",
    "FROM root.joined_promo_test_transformed\n",
    "WHERE bucket = 'off' AND (receiver_account_timestamp BETWEEN bucket_timestamp AND DATE_ADD(bucket_timestamp, INTERVAL 30 DAY))),\n",
    "rev_0hr AS\n",
    "(SELECT COUNT(*) * 600 AS total_revenue\n",
    "FROM root.joined_promo_test_transformed\n",
    "WHERE bucket = '0hr' AND receiver_policy=1 AND (receiver_account_timestamp BETWEEN bucket_timestamp AND DATE_ADD(bucket_timestamp, INTERVAL 30 DAY))),\n",
    "cost_0hr AS (\n",
    "SELECT SUM(IFNULL(sender_earned_amount_in_dollars, 0) + IFNULL(receiver_earned_amount_in_dollars,0)) AS total_cost\n",
    "FROM root.joined_promo_test_transformed\n",
    "WHERE bucket = '0hr' AND (receiver_account_timestamp BETWEEN bucket_timestamp AND DATE_ADD(bucket_timestamp, INTERVAL 30 DAY))),\n",
    "\n",
    "rev_48hr AS\n",
    "(SELECT COUNT(*) * 600 AS total_revenue\n",
    "FROM root.joined_promo_test_transformed\n",
    "WHERE bucket = '48hr' AND receiver_policy=1 AND (receiver_account_timestamp BETWEEN DATE_ADD(bucket_timestamp, INTERVAL 2 DAY) AND DATE_ADD(bucket_timestamp, INTERVAL 32 DAY))),\n",
    "cost_48hr AS (\n",
    "SELECT SUM(IFNULL(sender_earned_amount_in_dollars, 0) + IFNULL(receiver_earned_amount_in_dollars,0)) AS total_cost\n",
    "FROM root.joined_promo_test_transformed\n",
    "WHERE bucket = '48hr' AND (receiver_account_timestamp BETWEEN DATE_ADD(bucket_timestamp, INTERVAL 2 DAY) AND DATE_ADD(bucket_timestamp, INTERVAL 32 DAY))),\n",
    "\n",
    "rev_168hr AS\n",
    "(SELECT COUNT(*) * 600 AS total_revenue\n",
    "FROM root.joined_promo_test_transformed\n",
    "WHERE bucket = '168hr' AND receiver_policy=1 AND (receiver_account_timestamp BETWEEN DATE_ADD(bucket_timestamp, INTERVAL 7 DAY) AND DATE_ADD(bucket_timestamp, INTERVAL 30 DAY))),\n",
    "cost_168hr AS (\n",
    "SELECT SUM(IFNULL(sender_earned_amount_in_dollars, 0) + IFNULL(receiver_earned_amount_in_dollars,0)) AS total_cost\n",
    "FROM root.joined_promo_test_transformed\n",
    "WHERE bucket = '168hr' AND (receiver_account_timestamp BETWEEN DATE_ADD(bucket_timestamp, INTERVAL 7 DAY) AND DATE_ADD(bucket_timestamp, INTERVAL 30 DAY)))\n",
    "\n",
    "SELECT 'ctrl' AS bucket,rev_ctrl.total_revenue, cost_ctrl.total_cost, total_revenue -total_cost AS total_profit, ROUND((rev_ctrl.total_revenue - cost_ctrl.total_cost)/cost_ctrl.total_cost, 2) AS ROI\n",
    "FROM rev_ctrl, cost_ctrl\n",
    "\n",
    "UNION\n",
    "\n",
    "SELECT '0hr' AS bucket,rev_0hr.total_revenue, cost_0hr.total_cost,  total_revenue -total_cost AS total_profit,ROUND((rev_0hr.total_revenue - cost_0hr.total_cost)/cost_0hr.total_cost, 2) AS ROI\n",
    "FROM rev_0hr, cost_0hr\n",
    "\n",
    "UNION\n",
    "\n",
    "SELECT '48hr' AS bucket,rev_48hr.total_revenue, cost_48hr.total_cost,  total_revenue -total_cost AS total_profit,ROUND((rev_48hr.total_revenue - cost_48hr.total_cost)/cost_48hr.total_cost, 2) AS ROI\n",
    "FROM rev_48hr, cost_48hr\n",
    "\n",
    "UNION\n",
    "\n",
    "SELECT '168hr' AS bucket,rev_168hr.total_revenue, cost_168hr.total_cost, total_revenue -total_cost AS total_profit, ROUND((rev_168hr.total_revenue - cost_168hr.total_cost)/cost_168hr.total_cost, 2) AS ROI\n",
    "FROM rev_168hr, cost_168hr;\n",
    "\n",
    "\"\"\"\n",
    "\n",
    "res = pd.read_sql(sql, engine)\n",
    "res"
   ]
  },
  {
   "cell_type": "code",
   "execution_count": 38,
   "metadata": {},
   "outputs": [],
   "source": [
    "# Other Findings:\n",
    "sql = \"\"\"\n",
    "SELECT DATEDIFF(receiver_account_timestamp, `start`) AS days\n",
    "FROM root.joined_promo_test_transformed\n",
    "HAVING days>=0;\n",
    "\"\"\"\n",
    "res = pd.read_sql(sql, engine)"
   ]
  },
  {
   "cell_type": "code",
   "execution_count": 39,
   "metadata": {},
   "outputs": [
    {
     "data": {
      "text/plain": [
       "days    600\n",
       "dtype: int64"
      ]
     },
     "execution_count": 39,
     "metadata": {},
     "output_type": "execute_result"
    }
   ],
   "source": [
    "res.count()"
   ]
  },
  {
   "cell_type": "code",
   "execution_count": 40,
   "metadata": {},
   "outputs": [
    {
     "data": {
      "text/plain": [
       "<matplotlib.axes._subplots.AxesSubplot at 0x2477ff3ea20>"
      ]
     },
     "execution_count": 40,
     "metadata": {},
     "output_type": "execute_result"
    },
    {
     "data": {
      "image/png": "[encoded data removed]",
      "text/plain": [
       "<Figure size 432x288 with 1 Axes>"
      ]
     },
     "metadata": {
      "needs_background": "light"
     },
     "output_type": "display_data"
    }
   ],
   "source": [
    "sns.distplot(res,hist = True,  kde=False,  bins=20, color='green')"
   ]
  },
  {
   "cell_type": "code",
   "execution_count": null,
   "metadata": {},
   "outputs": [],
   "source": []
  },
  {
   "cell_type": "code",
   "execution_count": null,
   "metadata": {},
   "outputs": [],
   "source": []
  },
  {
   "cell_type": "code",
   "execution_count": null,
   "metadata": {},
   "outputs": [],
   "source": []
  }
 ],
 "metadata": {
  "kernelspec": {
   "display_name": "Python 3",
   "language": "python",
   "name": "python3"
  },
  "language_info": {
   "codemirror_mode": {
    "name": "ipython",
    "version": 3
   },
   "file_extension": ".py",
   "mimetype": "text/x-python",
   "name": "python",
   "nbconvert_exporter": "python",
   "pygments_lexer": "ipython3",
   "version": "3.7.0"
  }
 },
 "nbformat": 4,
 "nbformat_minor": 2
}
